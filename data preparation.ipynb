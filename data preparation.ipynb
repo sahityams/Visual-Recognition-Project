{
 "cells": [
  {
   "cell_type": "code",
   "execution_count": 1,
   "id": "d9d395ad",
   "metadata": {},
   "outputs": [],
   "source": [
    "import cv2\n",
    "import shutil\n",
    "import os\n",
    "from PIL import Image\n",
    "from matplotlib import pyplot as plt\n",
    "import numpy as np"
   ]
  },
  {
   "cell_type": "markdown",
   "id": "fe82cd5d",
   "metadata": {},
   "source": [
    "# Train Images"
   ]
  },
  {
   "cell_type": "code",
   "execution_count": 29,
   "id": "a43eca33",
   "metadata": {},
   "outputs": [],
   "source": [
    "train_dataset_images = \"leftImg8bit_trainvaltest/leftImg8bit/train\"\n",
    "save_dir_train = \"final_dataset/images/train\""
   ]
  },
  {
   "cell_type": "code",
   "execution_count": 30,
   "id": "dd0e3747",
   "metadata": {},
   "outputs": [
    {
     "data": {
      "text/plain": [
       "['aachen',\n",
       " 'bochum',\n",
       " 'bremen',\n",
       " 'cologne',\n",
       " 'darmstadt',\n",
       " 'dusseldorf',\n",
       " 'erfurt',\n",
       " 'hamburg',\n",
       " 'hanover',\n",
       " 'jena',\n",
       " 'krefeld',\n",
       " 'monchengladbach',\n",
       " 'strasbourg',\n",
       " 'stuttgart',\n",
       " 'tubingen',\n",
       " 'ulm',\n",
       " 'weimar',\n",
       " 'zurich']"
      ]
     },
     "execution_count": 30,
     "metadata": {},
     "output_type": "execute_result"
    }
   ],
   "source": [
    "os.listdir(train_dataset_images)"
   ]
  },
  {
   "cell_type": "code",
   "execution_count": 31,
   "id": "3d2245d2",
   "metadata": {},
   "outputs": [
    {
     "data": {
      "text/plain": [
       "2975"
      ]
     },
     "execution_count": 31,
     "metadata": {},
     "output_type": "execute_result"
    }
   ],
   "source": [
    "path = []\n",
    "for folder in os.listdir(train_dataset_images):\n",
    "    base_path = os.path.join(train_dataset_images,folder)\n",
    "    p = os.listdir(base_path)\n",
    "    temp = []\n",
    "    for p1 in p:\n",
    "        temp.append(os.path.join(base_path,p1))\n",
    "    path+=temp\n",
    "len(path)"
   ]
  },
  {
   "cell_type": "code",
   "execution_count": 32,
   "id": "238266ad",
   "metadata": {},
   "outputs": [
    {
     "data": {
      "text/plain": [
       "'leftImg8bit_trainvaltest/leftImg8bit/train/aachen/aachen_000005_000019_leftImg8bit.png'"
      ]
     },
     "execution_count": 32,
     "metadata": {},
     "output_type": "execute_result"
    }
   ],
   "source": [
    "path[5]"
   ]
  },
  {
   "cell_type": "code",
   "execution_count": 34,
   "id": "129e23b3",
   "metadata": {},
   "outputs": [],
   "source": [
    "for p in path:\n",
    "    shutil.copy(p, os.path.join(save_dir_train,os.path.basename(p)))"
   ]
  },
  {
   "cell_type": "markdown",
   "id": "d8c54850",
   "metadata": {},
   "source": [
    "## Masks "
   ]
  },
  {
   "cell_type": "code",
   "execution_count": 35,
   "id": "bc3f62f7",
   "metadata": {},
   "outputs": [
    {
     "name": "stdout",
     "output_type": "stream",
     "text": [
      "'data preparation.ipynb'   gtFine_trainvaltest.zip\r\n",
      " final_dataset\t\t   leftImg8bit_trainvaltest\r\n",
      " gtFine_trainvaltest\t   leftImg8bit_trainvaltest.zip\r\n"
     ]
    }
   ],
   "source": [
    "!ls"
   ]
  },
  {
   "cell_type": "code",
   "execution_count": 37,
   "id": "4c45d1da",
   "metadata": {},
   "outputs": [],
   "source": [
    "train_dataset_image_masks = \"gtFine_trainvaltest/gtFine/train\"\n",
    "save_dir_train_maks = \"final_dataset/masks/train\""
   ]
  },
  {
   "cell_type": "code",
   "execution_count": 38,
   "id": "47ffebec",
   "metadata": {},
   "outputs": [
    {
     "data": {
      "text/plain": [
       "['aachen',\n",
       " 'bochum',\n",
       " 'bremen',\n",
       " 'cologne',\n",
       " 'darmstadt',\n",
       " 'dusseldorf',\n",
       " 'erfurt',\n",
       " 'hamburg',\n",
       " 'hanover',\n",
       " 'jena',\n",
       " 'krefeld',\n",
       " 'monchengladbach',\n",
       " 'strasbourg',\n",
       " 'stuttgart',\n",
       " 'tubingen',\n",
       " 'ulm',\n",
       " 'weimar',\n",
       " 'zurich']"
      ]
     },
     "execution_count": 38,
     "metadata": {},
     "output_type": "execute_result"
    }
   ],
   "source": [
    "os.listdir(train_dataset_image_masks)"
   ]
  },
  {
   "cell_type": "code",
   "execution_count": 39,
   "id": "b81c30a5",
   "metadata": {},
   "outputs": [
    {
     "data": {
      "text/plain": [
       "2975"
      ]
     },
     "execution_count": 39,
     "metadata": {},
     "output_type": "execute_result"
    }
   ],
   "source": [
    "path = []\n",
    "for folder in os.listdir(train_dataset_image_masks):\n",
    "    base_path = os.path.join(train_dataset_image_masks,folder)\n",
    "    p = os.listdir(base_path)\n",
    "    temp = []\n",
    "    for p1 in p:\n",
    "        if \"color\" in p1:\n",
    "            temp.append(os.path.join(base_path,p1))\n",
    "    path+=temp\n",
    "len(path)"
   ]
  },
  {
   "cell_type": "code",
   "execution_count": 40,
   "id": "0a1147d3",
   "metadata": {},
   "outputs": [
    {
     "data": {
      "text/plain": [
       "'gtFine_trainvaltest/gtFine/train/aachen/aachen_000005_000019_gtFine_color.png'"
      ]
     },
     "execution_count": 40,
     "metadata": {},
     "output_type": "execute_result"
    }
   ],
   "source": [
    "path[5]"
   ]
  },
  {
   "cell_type": "code",
   "execution_count": 41,
   "id": "b58d12a9",
   "metadata": {},
   "outputs": [],
   "source": [
    "for p in path:\n",
    "    shutil.copy(p, os.path.join(save_dir_train_maks,os.path.basename(p)))"
   ]
  },
  {
   "cell_type": "markdown",
   "id": "bbb98267",
   "metadata": {},
   "source": [
    "# Test"
   ]
  },
  {
   "cell_type": "code",
   "execution_count": 42,
   "id": "46a49f5e",
   "metadata": {},
   "outputs": [],
   "source": [
    "test_dataset_images = \"leftImg8bit_trainvaltest/leftImg8bit/val\"\n",
    "save_dir_test = \"final_dataset/images/test\""
   ]
  },
  {
   "cell_type": "code",
   "execution_count": 43,
   "id": "c242f2e3",
   "metadata": {},
   "outputs": [
    {
     "data": {
      "text/plain": [
       "500"
      ]
     },
     "execution_count": 43,
     "metadata": {},
     "output_type": "execute_result"
    }
   ],
   "source": [
    "path = []\n",
    "for folder in os.listdir(test_dataset_images):\n",
    "    base_path = os.path.join(test_dataset_images,folder)\n",
    "    p = os.listdir(base_path)\n",
    "    temp = []\n",
    "    for p1 in p:\n",
    "        temp.append(os.path.join(base_path,p1))\n",
    "    path+=temp\n",
    "len(path)"
   ]
  },
  {
   "cell_type": "code",
   "execution_count": 44,
   "id": "f758e2a7",
   "metadata": {},
   "outputs": [],
   "source": [
    "for p in path:\n",
    "    shutil.copy(p, os.path.join(save_dir_test,os.path.basename(p)))"
   ]
  },
  {
   "cell_type": "markdown",
   "id": "fa8b9fdc",
   "metadata": {},
   "source": [
    "# Masks"
   ]
  },
  {
   "cell_type": "code",
   "execution_count": 49,
   "id": "a7bcffb8",
   "metadata": {},
   "outputs": [],
   "source": [
    "test_dataset_image_masks = \"gtFine_trainvaltest/gtFine/val\"\n",
    "save_dir_test_maks = \"final_dataset/masks_temp/test\""
   ]
  },
  {
   "cell_type": "code",
   "execution_count": 50,
   "id": "e9fbca18",
   "metadata": {},
   "outputs": [
    {
     "data": {
      "text/plain": [
       "500"
      ]
     },
     "execution_count": 50,
     "metadata": {},
     "output_type": "execute_result"
    }
   ],
   "source": [
    "path = []\n",
    "for folder in os.listdir(test_dataset_image_masks):\n",
    "    base_path = os.path.join(test_dataset_image_masks,folder)\n",
    "    p = os.listdir(base_path)\n",
    "    temp = []\n",
    "    for p1 in p:\n",
    "        if \"color\" in p1:\n",
    "            temp.append(os.path.join(base_path,p1))\n",
    "    path+=temp\n",
    "len(path)"
   ]
  },
  {
   "cell_type": "code",
   "execution_count": 51,
   "id": "a564a8e1",
   "metadata": {},
   "outputs": [],
   "source": [
    "for p in path:\n",
    "    shutil.copy(p, os.path.join(save_dir_test_maks,os.path.basename(p)))"
   ]
  },
  {
   "cell_type": "markdown",
   "id": "bbb889d7",
   "metadata": {},
   "source": [
    "# Processing Masks"
   ]
  },
  {
   "cell_type": "code",
   "execution_count": 56,
   "id": "536bc39f",
   "metadata": {},
   "outputs": [
    {
     "data": {
      "text/plain": [
       "{255: 0,\n",
       " 7: 1,\n",
       " 8: 2,\n",
       " 11: 3,\n",
       " 12: 4,\n",
       " 13: 5,\n",
       " 17: 6,\n",
       " 19: 7,\n",
       " 20: 8,\n",
       " 21: 9,\n",
       " 22: 10,\n",
       " 23: 11,\n",
       " 24: 12,\n",
       " 25: 13,\n",
       " 26: 14,\n",
       " 27: 15,\n",
       " 28: 16,\n",
       " 29: 17,\n",
       " 30: 18,\n",
       " 31: 19,\n",
       " 32: 20,\n",
       " 33: 21}"
      ]
     },
     "execution_count": 56,
     "metadata": {},
     "output_type": "execute_result"
    }
   ],
   "source": [
    "ignore_index=255\n",
    "void_classes = [0, 1, 2, 3, 4, 5, 6, 9, 10, 14, 15, 16, 18, -1]\n",
    "valid_classes = [ignore_index,7, 8, 11, 12, 13, 17, 19, 20, 21, 22, 23, 24, 25, 26, 27, 28, 29, 30, 31, 32, 33]\n",
    "class_names = ['unlabelled', 'road', 'sidewalk', 'building', 'wall', 'fence', 'pole', 'traffic_light', \\\n",
    "               'traffic_sign', 'vegetation', 'terrain', 'sky', 'person', 'rider', 'car', 'truck', 'bus', \\\n",
    "               'caravan','trailer','train', 'motorcycle', 'bicycle']\n",
    "\n",
    "class_map = dict(zip(valid_classes, range(len(valid_classes))))\n",
    "n_classes=len(valid_classes)\n",
    "class_map"
   ]
  },
  {
   "cell_type": "code",
   "execution_count": 57,
   "id": "b07823ea",
   "metadata": {},
   "outputs": [],
   "source": [
    "colors = [   [  0,   0,   0],\n",
    "        [128, 64, 128],\n",
    "        [244, 35, 232],\n",
    "        [70, 70, 70],\n",
    "        [102, 102, 156],\n",
    "        [190, 153, 153],\n",
    "        [153, 153, 153],\n",
    "        [250, 170, 30],\n",
    "        [220, 220, 0],\n",
    "        [107, 142, 35],\n",
    "        [152, 251, 152],\n",
    "        [0, 130, 180],\n",
    "        [220, 20, 60],\n",
    "        [255, 0, 0],\n",
    "        [0, 0, 142],\n",
    "        [0, 0, 70],\n",
    "        [0, 60, 100],\n",
    "        [0,0,90],\n",
    "        [0,0,110],\n",
    "        [0, 80, 100],\n",
    "        [0, 0, 230],\n",
    "        [119, 11, 32],\n",
    "    ]\n",
    "\n",
    "label_colours = dict(zip(range(n_classes), colors))"
   ]
  },
  {
   "cell_type": "code",
   "execution_count": 58,
   "id": "37e09a31",
   "metadata": {},
   "outputs": [
    {
     "data": {
      "text/plain": [
       "{0: [0, 0, 0],\n",
       " 1: [128, 64, 128],\n",
       " 2: [244, 35, 232],\n",
       " 3: [70, 70, 70],\n",
       " 4: [102, 102, 156],\n",
       " 5: [190, 153, 153],\n",
       " 6: [153, 153, 153],\n",
       " 7: [250, 170, 30],\n",
       " 8: [220, 220, 0],\n",
       " 9: [107, 142, 35],\n",
       " 10: [152, 251, 152],\n",
       " 11: [0, 130, 180],\n",
       " 12: [220, 20, 60],\n",
       " 13: [255, 0, 0],\n",
       " 14: [0, 0, 142],\n",
       " 15: [0, 0, 70],\n",
       " 16: [0, 60, 100],\n",
       " 17: [0, 0, 90],\n",
       " 18: [0, 0, 110],\n",
       " 19: [0, 80, 100],\n",
       " 20: [0, 0, 230],\n",
       " 21: [119, 11, 32]}"
      ]
     },
     "execution_count": 58,
     "metadata": {},
     "output_type": "execute_result"
    }
   ],
   "source": [
    "label_colours"
   ]
  },
  {
   "cell_type": "code",
   "execution_count": 59,
   "id": "fa14b1dd",
   "metadata": {},
   "outputs": [],
   "source": [
    "\n",
    "def encode_segmap(mask):\n",
    "    #remove unwanted classes and recitify the labels of wanted classes\n",
    "    for _voidc in void_classes:\n",
    "        mask[mask == _voidc] = ignore_index\n",
    "    for _validc in valid_classes:\n",
    "        mask[mask == _validc] = class_map[_validc]\n",
    "    return mask"
   ]
  },
  {
   "cell_type": "code",
   "execution_count": 60,
   "id": "c136d001",
   "metadata": {},
   "outputs": [],
   "source": [
    "def decode_segmap(temp):\n",
    "    #convert gray scale to color\n",
    "    temp=temp.numpy()\n",
    "    r = temp.copy()\n",
    "    g = temp.copy()\n",
    "    b = temp.copy()\n",
    "    for l in range(0, n_classes):\n",
    "        r[temp == l] = label_colours[l][0]\n",
    "        g[temp == l] = label_colours[l][1]\n",
    "        b[temp == l] = label_colours[l][2]\n",
    "\n",
    "    rgb = np.zeros((temp.shape[0], temp.shape[1], 3))\n",
    "    rgb[:, :, 0] = r / 255.0\n",
    "    rgb[:, :, 1] = g / 255.0\n",
    "    rgb[:, :, 2] = b / 255.0\n",
    "    return rgb"
   ]
  },
  {
   "cell_type": "code",
   "execution_count": 80,
   "id": "aca57651",
   "metadata": {},
   "outputs": [],
   "source": [
    "sample_masks = os.listdir(save_dir_test_maks)"
   ]
  },
  {
   "cell_type": "code",
   "execution_count": 142,
   "id": "e739c795",
   "metadata": {},
   "outputs": [
    {
     "data": {
      "text/plain": [
       "<matplotlib.image.AxesImage at 0x7ff1e1caa890>"
      ]
     },
     "execution_count": 142,
     "metadata": {},
     "output_type": "execute_result"
    },
    {
     "data": {
      "image/png": "[encoded data removed]",
      "text/plain": [
       "<Figure size 640x480 with 1 Axes>"
      ]
     },
     "metadata": {},
     "output_type": "display_data"
    }
   ],
   "source": [
    "img = Image.open(os.path.join(save_dir_test_maks,sample_masks[0]))\n",
    "plt.imshow(img)"
   ]
  },
  {
   "cell_type": "code",
   "execution_count": 71,
   "id": "6bc75024",
   "metadata": {},
   "outputs": [
    {
     "data": {
      "text/plain": [
       "<matplotlib.image.AxesImage at 0x7ff1e273f490>"
      ]
     },
     "execution_count": 71,
     "metadata": {},
     "output_type": "execute_result"
    },
    {
     "data": {
      "image/png": "[encoded data removed]",
      "text/plain": [
       "<Figure size 640x480 with 1 Axes>"
      ]
     },
     "metadata": {},
     "output_type": "display_data"
    }
   ],
   "source": [
    "encoded_image = encode_segmap(np.array(img))\n",
    "plt.imshow(encoded_image)"
   ]
  },
  {
   "cell_type": "code",
   "execution_count": 74,
   "id": "82f61219",
   "metadata": {},
   "outputs": [
    {
     "data": {
      "text/plain": [
       "{0, 8, 35, 60, 64, 70, 107, 128, 130, 142, 153, 180, 190, 220, 232, 244}"
      ]
     },
     "execution_count": 74,
     "metadata": {},
     "output_type": "execute_result"
    }
   ],
   "source": [
    "set(encoded_image.flatten().tolist())"
   ]
  },
  {
   "cell_type": "code",
   "execution_count": 94,
   "id": "66cbad5f",
   "metadata": {},
   "outputs": [
    {
     "data": {
      "text/plain": [
       "<matplotlib.image.AxesImage at 0x7ff1e18ca8f0>"
      ]
     },
     "execution_count": 94,
     "metadata": {},
     "output_type": "execute_result"
    },
    {
     "data": {
      "image/png": "[encoded data removed]",
      "text/plain": [
       "<Figure size 640x480 with 1 Axes>"
      ]
     },
     "metadata": {},
     "output_type": "display_data"
    }
   ],
   "source": [
    "test = cv2.imread(os.path.join(save_dir_test_maks,sample_masks[0]))\n",
    "og_img = cv2.cvtColor(test, cv2.COLOR_BGR2RGB)\n",
    "plt.imshow(cv2.cvtColor(test, cv2.COLOR_BGR2RGB))"
   ]
  },
  {
   "cell_type": "code",
   "execution_count": 101,
   "id": "8cdf31c4",
   "metadata": {
    "scrolled": false
   },
   "outputs": [
    {
     "data": {
      "text/plain": [
       "<matplotlib.image.AxesImage at 0x7ff1e190a1a0>"
      ]
     },
     "execution_count": 101,
     "metadata": {},
     "output_type": "execute_result"
    },
    {
     "data": {
      "image/png": "[encoded data removed]",
      "text/plain": [
       "<Figure size 640x480 with 1 Axes>"
      ]
     },
     "metadata": {},
     "output_type": "display_data"
    }
   ],
   "source": [
    "r1,g1,b1 = 0,0,0\n",
    "r2,g2,b2 = 255,255,255\n",
    "red, green, blue = og_img[:,:,0], og_img[:,:,1], og_img[:,:,2]\n",
    "mask = (red == r1) & (green == g1) & (blue == b1)\n",
    "og_img[:,:,:3][mask] = [r2, g2, b2]\n",
    "plt.imshow(og_img)"
   ]
  },
  {
   "cell_type": "code",
   "execution_count": 99,
   "id": "65911212",
   "metadata": {},
   "outputs": [
    {
     "data": {
      "text/plain": [
       "(1024, 2048, 3)"
      ]
     },
     "execution_count": 99,
     "metadata": {},
     "output_type": "execute_result"
    }
   ],
   "source": [
    "og_img.shape"
   ]
  },
  {
   "cell_type": "code",
   "execution_count": 61,
   "id": "6f71bf33",
   "metadata": {},
   "outputs": [],
   "source": [
    "\n",
    "labels = [\n",
    "    #       name                id    trainId   category            catId     hasInstances   ignoreInEval   color\n",
    "    (  'unlabeled'            ,  0 ,      255 , 'void'            , 0       , False        , True         , (  0,  0,  0) ),\n",
    "    (  'ego vehicle'          ,  1 ,      255 , 'void'            , 0       , False        , True         , (  0,  0,  0) ),\n",
    "    (  'rectification border' ,  2 ,      255 , 'void'            , 0       , False        , True         , (  0,  0,  0) ),\n",
    "    (  'out of roi'           ,  3 ,      255 , 'void'            , 0       , False        , True         , (  0,  0,  0) ),\n",
    "    (  'static'               ,  4 ,      255 , 'void'            , 0       , False        , True         , (  0,  0,  0) ),\n",
    "    (  'dynamic'              ,  5 ,      255 , 'void'            , 0       , False        , True         , (111, 74,  0) ),\n",
    "    (  'ground'               ,  6 ,      255 , 'void'            , 0       , False        , True         , ( 81,  0, 81) ),\n",
    "    (  'road'                 ,  7 ,        0 , 'flat'            , 1       , False        , False        , (128, 64,128) ),\n",
    "    (  'sidewalk'             ,  8 ,        1 , 'flat'            , 1       , False        , False        , (244, 35,232) ),\n",
    "    (  'parking'              ,  9 ,      255 , 'flat'            , 1       , False        , True         , (250,170,160) ),\n",
    "    (  'rail track'           , 10 ,      255 , 'flat'            , 1       , False        , True         , (230,150,140) ),\n",
    "    (  'building'             , 11 ,        2 , 'construction'    , 2       , False        , False        , ( 70, 70, 70) ),\n",
    "    (  'wall'                 , 12 ,        3 , 'construction'    , 2       , False        , False        , (102,102,156) ),\n",
    "    (  'fence'                , 13 ,        4 , 'construction'    , 2       , False        , False        , (190,153,153) ),\n",
    "    (  'guard rail'           , 14 ,      255 , 'construction'    , 2       , False        , True         , (180,165,180) ),\n",
    "    (  'bridge'               , 15 ,      255 , 'construction'    , 2       , False        , True         , (150,100,100) ),\n",
    "    (  'tunnel'               , 16 ,      255 , 'construction'    , 2       , False        , True         , (150,120, 90) ),\n",
    "    (  'pole'                 , 17 ,        5 , 'object'          , 3       , False        , False        , (153,153,153) ),\n",
    "    (  'polegroup'            , 18 ,      255 , 'object'          , 3       , False        , True         , (153,153,153) ),\n",
    "    (  'traffic light'        , 19 ,        6 , 'object'          , 3       , False        , False        , (250,170, 30) ),\n",
    "    (  'traffic sign'         , 20 ,        7 , 'object'          , 3       , False        , False        , (220,220,  0) ),\n",
    "    (  'vegetation'           , 21 ,        8 , 'nature'          , 4       , False        , False        , (107,142, 35) ),\n",
    "    (  'terrain'              , 22 ,        9 , 'nature'          , 4       , False        , False        , (152,251,152) ),\n",
    "    (  'sky'                  , 23 ,       10 , 'sky'             , 5       , False        , False        , ( 70,130,180) ),\n",
    "    (  'person'               , 24 ,       11 , 'human'           , 6       , True         , False        , (220, 20, 60) ),\n",
    "    (  'rider'                , 25 ,       12 , 'human'           , 6       , True         , False        , (255,  0,  0) ),\n",
    "    (  'car'                  , 26 ,       13 , 'vehicle'         , 7       , True         , False        , (  0,  0,142) ),\n",
    "    (  'truck'                , 27 ,       14 , 'vehicle'         , 7       , True         , False        , (  0,  0, 70) ),\n",
    "    (  'bus'                  , 28 ,       15 , 'vehicle'         , 7       , True         , False        , (  0, 60,100) ),\n",
    "    (  'caravan'              , 29 ,      255 , 'vehicle'         , 7       , True         , True         , (  0,  0, 90) ),\n",
    "    (  'trailer'              , 30 ,      255 , 'vehicle'         , 7       , True         , True         , (  0,  0,110) ),\n",
    "    (  'train'                , 31 ,       16 , 'vehicle'         , 7       , True         , False        , (  0, 80,100) ),\n",
    "    (  'motorcycle'           , 32 ,       17 , 'vehicle'         , 7       , True         , False        , (  0,  0,230) ),\n",
    "    (  'bicycle'              , 33 ,       18 , 'vehicle'         , 7       , True         , False        , (119, 11, 32) ),\n",
    "    (  'license plate'        , -1 ,       -1 , 'vehicle'         , 7       , False        , True         , (  0,  0,142) ),\n",
    "    (  'animals'              , 35 ,       19 , 'animal'          , 8       ,False         , False        , (  0,255,255) )    \n",
    "]\n"
   ]
  },
  {
   "cell_type": "code",
   "execution_count": 62,
   "id": "d5da8d9a",
   "metadata": {},
   "outputs": [
    {
     "data": {
      "text/plain": [
       "{'unlabeled': (0, 0, 0),\n",
       " 'ego vehicle': (0, 0, 0),\n",
       " 'rectification border': (0, 0, 0),\n",
       " 'out of roi': (0, 0, 0),\n",
       " 'static': (0, 0, 0),\n",
       " 'dynamic': (111, 74, 0),\n",
       " 'ground': (81, 0, 81),\n",
       " 'road': (128, 64, 128),\n",
       " 'sidewalk': (244, 35, 232),\n",
       " 'parking': (250, 170, 160),\n",
       " 'rail track': (230, 150, 140),\n",
       " 'building': (70, 70, 70),\n",
       " 'wall': (102, 102, 156),\n",
       " 'fence': (190, 153, 153),\n",
       " 'guard rail': (180, 165, 180),\n",
       " 'bridge': (150, 100, 100),\n",
       " 'tunnel': (150, 120, 90),\n",
       " 'pole': (153, 153, 153),\n",
       " 'polegroup': (153, 153, 153),\n",
       " 'traffic light': (250, 170, 30),\n",
       " 'traffic sign': (220, 220, 0),\n",
       " 'vegetation': (107, 142, 35),\n",
       " 'terrain': (152, 251, 152),\n",
       " 'sky': (70, 130, 180),\n",
       " 'person': (220, 20, 60),\n",
       " 'rider': (255, 0, 0),\n",
       " 'car': (0, 0, 142),\n",
       " 'truck': (0, 0, 70),\n",
       " 'bus': (0, 60, 100),\n",
       " 'caravan': (0, 0, 90),\n",
       " 'trailer': (0, 0, 110),\n",
       " 'train': (0, 80, 100),\n",
       " 'motorcycle': (0, 0, 230),\n",
       " 'bicycle': (119, 11, 32),\n",
       " 'license plate': (0, 0, 142),\n",
       " 'animals': (0, 255, 255)}"
      ]
     },
     "execution_count": 62,
     "metadata": {},
     "output_type": "execute_result"
    }
   ],
   "source": [
    "label_dict = {}\n",
    "for i in range(len(labels)):\n",
    "    label_dict[labels[i][0]] = labels[i][7]\n",
    "label_dict"
   ]
  },
  {
   "cell_type": "code",
   "execution_count": 63,
   "id": "1ec61bb2",
   "metadata": {},
   "outputs": [
    {
     "data": {
      "text/plain": [
       "{(0, 0, 0): 'unlabeled',\n",
       " (111, 74, 0): 'dynamic',\n",
       " (81, 0, 81): 'ground',\n",
       " (128, 64, 128): 'road',\n",
       " (244, 35, 232): 'sidewalk',\n",
       " (250, 170, 160): 'parking',\n",
       " (230, 150, 140): 'rail track',\n",
       " (70, 70, 70): 'building',\n",
       " (102, 102, 156): 'wall',\n",
       " (190, 153, 153): 'fence',\n",
       " (180, 165, 180): 'guard rail',\n",
       " (150, 100, 100): 'bridge',\n",
       " (150, 120, 90): 'tunnel',\n",
       " (153, 153, 153): 'polegroup',\n",
       " (250, 170, 30): 'traffic light',\n",
       " (220, 220, 0): 'traffic sign',\n",
       " (107, 142, 35): 'vegetation',\n",
       " (152, 251, 152): 'terrain',\n",
       " (70, 130, 180): 'sky',\n",
       " (220, 20, 60): 'person',\n",
       " (255, 0, 0): 'rider',\n",
       " (0, 0, 142): 'license plate',\n",
       " (0, 0, 70): 'truck',\n",
       " (0, 60, 100): 'bus',\n",
       " (0, 0, 90): 'caravan',\n",
       " (0, 0, 110): 'trailer',\n",
       " (0, 80, 100): 'train',\n",
       " (0, 0, 230): 'motorcycle',\n",
       " (119, 11, 32): 'bicycle',\n",
       " (0, 255, 255): 'animals'}"
      ]
     },
     "execution_count": 63,
     "metadata": {},
     "output_type": "execute_result"
    }
   ],
   "source": [
    "color_label = {v:k for k,v in label_dict.items()}\n",
    "color_label[(0,0,0)] = 'unlabeled'\n",
    "color_label"
   ]
  },
  {
   "cell_type": "code",
   "execution_count": 66,
   "id": "5cb4497e",
   "metadata": {},
   "outputs": [],
   "source": [
    "mask_mapping = {}\n",
    "unique_colors = sorted(list(set(label_dict.values())))\n",
    "mask_mapping = dict(zip(unique_colors, range(len(unique_colors))))\n",
    "\n",
    "def encode_mask(img,mask_mapping,show=False):\n",
    "    temp = img.copy()\n",
    "    for k in mask_mapping:\n",
    "        temp[(temp == k).all(axis=2)] = mask_mapping[k]\n",
    "    if show:\n",
    "        plt.imshow(temp)\n",
    "        plt.show()\n",
    "    return temp"
   ]
  },
  {
   "cell_type": "code",
   "execution_count": 67,
   "id": "f86c9cc0",
   "metadata": {
    "scrolled": true
   },
   "outputs": [
    {
     "data": {
      "text/plain": [
       "{(0, 0, 0): 0,\n",
       " (0, 0, 70): 1,\n",
       " (0, 0, 90): 2,\n",
       " (0, 0, 110): 3,\n",
       " (0, 0, 142): 4,\n",
       " (0, 0, 230): 5,\n",
       " (0, 60, 100): 6,\n",
       " (0, 80, 100): 7,\n",
       " (0, 255, 255): 8,\n",
       " (70, 70, 70): 9,\n",
       " (70, 130, 180): 10,\n",
       " (81, 0, 81): 11,\n",
       " (102, 102, 156): 12,\n",
       " (107, 142, 35): 13,\n",
       " (111, 74, 0): 14,\n",
       " (119, 11, 32): 15,\n",
       " (128, 64, 128): 16,\n",
       " (150, 100, 100): 17,\n",
       " (150, 120, 90): 18,\n",
       " (152, 251, 152): 19,\n",
       " (153, 153, 153): 20,\n",
       " (180, 165, 180): 21,\n",
       " (190, 153, 153): 22,\n",
       " (220, 20, 60): 23,\n",
       " (220, 220, 0): 24,\n",
       " (230, 150, 140): 25,\n",
       " (244, 35, 232): 26,\n",
       " (250, 170, 30): 27,\n",
       " (250, 170, 160): 28,\n",
       " (255, 0, 0): 29}"
      ]
     },
     "execution_count": 67,
     "metadata": {},
     "output_type": "execute_result"
    }
   ],
   "source": [
    "mask_mapping"
   ]
  },
  {
   "cell_type": "code",
   "execution_count": 68,
   "id": "893f9726",
   "metadata": {
    "scrolled": true
   },
   "outputs": [
    {
     "data": {
      "text/plain": [
       "{0: (0, 0, 0),\n",
       " 1: (0, 0, 70),\n",
       " 2: (0, 0, 90),\n",
       " 3: (0, 0, 110),\n",
       " 4: (0, 0, 142),\n",
       " 5: (0, 0, 230),\n",
       " 6: (0, 60, 100),\n",
       " 7: (0, 80, 100),\n",
       " 8: (0, 255, 255),\n",
       " 9: (70, 70, 70),\n",
       " 10: (70, 130, 180),\n",
       " 11: (81, 0, 81),\n",
       " 12: (102, 102, 156),\n",
       " 13: (107, 142, 35),\n",
       " 14: (111, 74, 0),\n",
       " 15: (119, 11, 32),\n",
       " 16: (128, 64, 128),\n",
       " 17: (150, 100, 100),\n",
       " 18: (150, 120, 90),\n",
       " 19: (152, 251, 152),\n",
       " 20: (153, 153, 153),\n",
       " 21: (180, 165, 180),\n",
       " 22: (190, 153, 153),\n",
       " 23: (220, 20, 60),\n",
       " 24: (220, 220, 0),\n",
       " 25: (230, 150, 140),\n",
       " 26: (244, 35, 232),\n",
       " 27: (250, 170, 30),\n",
       " 28: (250, 170, 160),\n",
       " 29: (255, 0, 0)}"
      ]
     },
     "execution_count": 68,
     "metadata": {},
     "output_type": "execute_result"
    }
   ],
   "source": [
    "inverse_mask_mapping = {v: k for k, v in mask_mapping.items()}\n",
    "inverse_mask_mapping"
   ]
  },
  {
   "cell_type": "code",
   "execution_count": 69,
   "id": "78dae869",
   "metadata": {},
   "outputs": [],
   "source": [
    "def decode_mask(img,inverse_mask_mapping,show=False):\n",
    "    temp = img.copy()\n",
    "    for k in inverse_mask_mapping:\n",
    "        temp[(temp == k).all(axis=2)] = inverse_mask_mapping[k]\n",
    "    if show:\n",
    "        plt.imshow(temp)\n",
    "        plt.show()\n",
    "    return temp"
   ]
  },
  {
   "cell_type": "markdown",
   "id": "762b3289",
   "metadata": {},
   "source": [
    "# Create modified label Masks:"
   ]
  },
  {
   "cell_type": "markdown",
   "id": "75ca13e3",
   "metadata": {},
   "source": [
    "## Train"
   ]
  },
  {
   "cell_type": "code",
   "execution_count": 86,
   "id": "e89c4fde",
   "metadata": {},
   "outputs": [],
   "source": [
    "rgb_masks_train = \"animal_gta_2/mask_temp/test\"\n",
    "save_path_train = \"animal_gta_2/mask/test\""
   ]
  },
  {
   "cell_type": "code",
   "execution_count": 87,
   "id": "07b27650",
   "metadata": {},
   "outputs": [
    {
     "data": {
      "text/plain": [
       "360"
      ]
     },
     "execution_count": 87,
     "metadata": {},
     "output_type": "execute_result"
    }
   ],
   "source": [
    "len(os.listdir(rgb_masks_train))"
   ]
  },
  {
   "cell_type": "code",
   "execution_count": 84,
   "id": "7d5aca37",
   "metadata": {},
   "outputs": [],
   "source": [
    "def create_modified_masks(p):\n",
    "    ip_path = os.path.join(rgb_masks_train,p)\n",
    "    op_path = os.path.join(save_path_train,p)\n",
    "    bgr = cv2.imread(ip_path)\n",
    "    rgb = cv2.cvtColor(bgr, cv2.COLOR_BGR2RGB)\n",
    "    encoded_image = encode_mask(rgb,mask_mapping,False)\n",
    "    im = Image.fromarray(encoded_image)\n",
    "    im.save(op_path)\n",
    "    return 0"
   ]
  },
  {
   "cell_type": "code",
   "execution_count": 88,
   "id": "2656c556",
   "metadata": {},
   "outputs": [
    {
     "data": {
      "text/plain": [
       "0"
      ]
     },
     "execution_count": 88,
     "metadata": {},
     "output_type": "execute_result"
    }
   ],
   "source": [
    "create_modified_masks(os.listdir(rgb_masks_train)[0])"
   ]
  },
  {
   "cell_type": "code",
   "execution_count": 89,
   "id": "30c33851",
   "metadata": {
    "scrolled": true
   },
   "outputs": [
    {
     "name": "stdout",
     "output_type": "stream",
     "text": [
      "Time taken to create modified masks: 191.23895025253296\n"
     ]
    }
   ],
   "source": [
    "start = time.time()\n",
    "with multiprocessing.Pool(multiprocessing.cpu_count()) as p:\n",
    "    ans = p.map(create_modified_masks, os.listdir(rgb_masks_train))\n",
    "end = time.time()\n",
    "print(f\"Time taken to create modified masks: {end-start}\")"
   ]
  },
  {
   "cell_type": "markdown",
   "id": "787a3465",
   "metadata": {},
   "source": [
    "Time taken for creating the training set: ~1900sec"
   ]
  },
  {
   "cell_type": "code",
   "execution_count": 174,
   "id": "95f7146f",
   "metadata": {},
   "outputs": [],
   "source": [
    "for p in os.listdir(rgb_masks_train):\n",
    "    ip_path = os.path.join(rgb_masks_train,p)\n",
    "    op_path = os.path.join(save_path_train,p)\n",
    "    bgr = cv2.imread(ip_path)\n",
    "    rgb = cv2.cvtColor(bgr, cv2.COLOR_BGR2RGB)\n",
    "    encoded_image = encode_mask(rgb,mask_mapping,False)\n",
    "    im = Image.fromarray(encoded_image)\n",
    "    im.save(op_path)"
   ]
  },
  {
   "cell_type": "markdown",
   "id": "21a88f03",
   "metadata": {},
   "source": [
    "## Test"
   ]
  },
  {
   "cell_type": "code",
   "execution_count": 175,
   "id": "5ea461c4",
   "metadata": {},
   "outputs": [],
   "source": [
    "rgb_masks_test = \"animal_gta/masks_temp/test\"\n",
    "save_path_test = \"animal_gta/masks/test\""
   ]
  },
  {
   "cell_type": "code",
   "execution_count": 176,
   "id": "5835bf4c",
   "metadata": {},
   "outputs": [],
   "source": [
    "for p in os.listdir(rgb_masks_test):\n",
    "    ip_path = os.path.join(rgb_masks_test,p)\n",
    "    op_path = os.path.join(save_path_test,p)\n",
    "    bgr = cv2.imread(ip_path)\n",
    "    rgb = cv2.cvtColor(bgr, cv2.COLOR_BGR2RGB)\n",
    "    encoded_image = encode_mask(rgb,mask_mapping,False)\n",
    "    im = Image.fromarray(encoded_image)\n",
    "    im.save(op_path)\n",
    "        "
   ]
  },
  {
   "cell_type": "code",
   "execution_count": 200,
   "id": "fd3c51a5",
   "metadata": {},
   "outputs": [
    {
     "data": {
      "text/plain": [
       "{(0, 0, 0): 'unlabeled',\n",
       " (111, 74, 0): 'dynamic',\n",
       " (81, 0, 81): 'ground',\n",
       " (128, 64, 128): 'road',\n",
       " (244, 35, 232): 'sidewalk',\n",
       " (250, 170, 160): 'parking',\n",
       " (230, 150, 140): 'rail track',\n",
       " (70, 70, 70): 'building',\n",
       " (102, 102, 156): 'wall',\n",
       " (190, 153, 153): 'fence',\n",
       " (180, 165, 180): 'guard rail',\n",
       " (150, 100, 100): 'bridge',\n",
       " (150, 120, 90): 'tunnel',\n",
       " (153, 153, 153): 'polegroup',\n",
       " (250, 170, 30): 'traffic light',\n",
       " (220, 220, 0): 'traffic sign',\n",
       " (107, 142, 35): 'vegetation',\n",
       " (152, 251, 152): 'terrain',\n",
       " (70, 130, 180): 'sky',\n",
       " (220, 20, 60): 'person',\n",
       " (255, 0, 0): 'rider',\n",
       " (0, 0, 142): 'license plate',\n",
       " (0, 0, 70): 'truck',\n",
       " (0, 60, 100): 'bus',\n",
       " (0, 0, 90): 'caravan',\n",
       " (0, 0, 110): 'trailer',\n",
       " (0, 80, 100): 'train',\n",
       " (0, 0, 230): 'motorcycle',\n",
       " (119, 11, 32): 'bicycle'}"
      ]
     },
     "execution_count": 200,
     "metadata": {},
     "output_type": "execute_result"
    }
   ],
   "source": [
    "color_label"
   ]
  },
  {
   "cell_type": "code",
   "execution_count": 90,
   "id": "ad53c1e4",
   "metadata": {},
   "outputs": [
    {
     "data": {
      "text/plain": [
       "{(0, 0, 0): 0,\n",
       " (0, 0, 70): 1,\n",
       " (0, 0, 90): 2,\n",
       " (0, 0, 110): 3,\n",
       " (0, 0, 142): 4,\n",
       " (0, 0, 230): 5,\n",
       " (0, 60, 100): 6,\n",
       " (0, 80, 100): 7,\n",
       " (0, 255, 255): 8,\n",
       " (70, 70, 70): 9,\n",
       " (70, 130, 180): 10,\n",
       " (81, 0, 81): 11,\n",
       " (102, 102, 156): 12,\n",
       " (107, 142, 35): 13,\n",
       " (111, 74, 0): 14,\n",
       " (119, 11, 32): 15,\n",
       " (128, 64, 128): 16,\n",
       " (150, 100, 100): 17,\n",
       " (150, 120, 90): 18,\n",
       " (152, 251, 152): 19,\n",
       " (153, 153, 153): 20,\n",
       " (180, 165, 180): 21,\n",
       " (190, 153, 153): 22,\n",
       " (220, 20, 60): 23,\n",
       " (220, 220, 0): 24,\n",
       " (230, 150, 140): 25,\n",
       " (244, 35, 232): 26,\n",
       " (250, 170, 30): 27,\n",
       " (250, 170, 160): 28,\n",
       " (255, 0, 0): 29}"
      ]
     },
     "execution_count": 90,
     "metadata": {},
     "output_type": "execute_result"
    }
   ],
   "source": [
    "mask_mapping"
   ]
  },
  {
   "cell_type": "markdown",
   "id": "8d966d64",
   "metadata": {},
   "source": [
    "## Creating class_label_file"
   ]
  },
  {
   "cell_type": "code",
   "execution_count": 91,
   "id": "aebbf788",
   "metadata": {},
   "outputs": [],
   "source": [
    "f = open(os.path.join(os.curdir,\"animal_gta_2\",\"class_dict_seg.txt\"),\"w\")\n",
    "f.write(\"name,r,g,b\\n\")\n",
    "for k in mask_mapping:\n",
    "    f.write(f\"{color_label[k]},{k[0]},{k[1]},{k[2]}\\n\")\n",
    "f.close()"
   ]
  },
  {
   "cell_type": "code",
   "execution_count": 204,
   "id": "671d4492",
   "metadata": {},
   "outputs": [
    {
     "name": "stdout",
     "output_type": "stream",
     "text": [
      "/mnt/e/UofU/Spring 2023/CS 6958 Visual Recognition/Test/cityscapes\r\n"
     ]
    }
   ],
   "source": [
    "!pwd"
   ]
  },
  {
   "cell_type": "markdown",
   "id": "f09c3bc5",
   "metadata": {},
   "source": [
    "# Test"
   ]
  },
  {
   "cell_type": "code",
   "execution_count": 170,
   "id": "294ffc68",
   "metadata": {
    "scrolled": true
   },
   "outputs": [
    {
     "data": {
      "text/plain": [
       "<matplotlib.image.AxesImage at 0x7ff1bfb97b50>"
      ]
     },
     "execution_count": 170,
     "metadata": {},
     "output_type": "execute_result"
    },
    {
     "data": {
      "image/png": "[encoded data removed]",
      "text/plain": [
       "<Figure size 640x480 with 1 Axes>"
      ]
     },
     "metadata": {},
     "output_type": "display_data"
    }
   ],
   "source": [
    "test = cv2.imread(os.path.join(rgb_masks_train,p))\n",
    "og_img = cv2.cvtColor(test, cv2.COLOR_BGR2RGB)\n",
    "plt.imshow(og_img)"
   ]
  },
  {
   "cell_type": "code",
   "execution_count": 162,
   "id": "71a45192",
   "metadata": {},
   "outputs": [
    {
     "data": {
      "image/png": "[encoded data removed]",
      "text/plain": [
       "<Figure size 640x480 with 1 Axes>"
      ]
     },
     "metadata": {},
     "output_type": "display_data"
    },
    {
     "data": {
      "text/plain": [
       "{1, 2, 3, 4, 8, 9, 10, 11, 14, 15, 21, 24, 25, 27}"
      ]
     },
     "execution_count": 162,
     "metadata": {},
     "output_type": "execute_result"
    }
   ],
   "source": [
    "test = cv2.imread(os.path.join(save_path_train,p))\n",
    "og_img = cv2.cvtColor(test, cv2.COLOR_BGR2RGB)\n",
    "encoded_image = encode_mask(og_img,mask_mapping,True)\n",
    "set(encoded_image.flatten())"
   ]
  },
  {
   "cell_type": "code",
   "execution_count": 191,
   "id": "c3d72c27",
   "metadata": {
    "collapsed": true
   },
   "outputs": [
    {
     "data": {
      "image/png": "[encoded data removed]",
      "text/plain": [
       "<Figure size 640x480 with 1 Axes>"
      ]
     },
     "metadata": {},
     "output_type": "display_data"
    },
    {
     "data": {
      "text/plain": [
       "array([[[0, 0, 0],\n",
       "        [0, 0, 0],\n",
       "        [0, 0, 0],\n",
       "        ...,\n",
       "        [0, 0, 0],\n",
       "        [0, 0, 0],\n",
       "        [0, 0, 0]],\n",
       "\n",
       "       [[0, 0, 0],\n",
       "        [0, 0, 0],\n",
       "        [0, 0, 0],\n",
       "        ...,\n",
       "        [0, 0, 0],\n",
       "        [0, 0, 0],\n",
       "        [0, 0, 0]],\n",
       "\n",
       "       [[0, 0, 0],\n",
       "        [0, 0, 0],\n",
       "        [0, 0, 0],\n",
       "        ...,\n",
       "        [0, 0, 0],\n",
       "        [0, 0, 0],\n",
       "        [0, 0, 0]],\n",
       "\n",
       "       ...,\n",
       "\n",
       "       [[0, 0, 0],\n",
       "        [0, 0, 0],\n",
       "        [0, 0, 0],\n",
       "        ...,\n",
       "        [0, 0, 0],\n",
       "        [0, 0, 0],\n",
       "        [0, 0, 0]],\n",
       "\n",
       "       [[0, 0, 0],\n",
       "        [0, 0, 0],\n",
       "        [0, 0, 0],\n",
       "        ...,\n",
       "        [0, 0, 0],\n",
       "        [0, 0, 0],\n",
       "        [0, 0, 0]],\n",
       "\n",
       "       [[0, 0, 0],\n",
       "        [0, 0, 0],\n",
       "        [0, 0, 0],\n",
       "        ...,\n",
       "        [0, 0, 0],\n",
       "        [0, 0, 0],\n",
       "        [0, 0, 0]]], dtype=uint8)"
      ]
     },
     "execution_count": 191,
     "metadata": {},
     "output_type": "execute_result"
    }
   ],
   "source": [
    "decode_mask(encoded_image,inverse_mask_mapping,True)"
   ]
  },
  {
   "cell_type": "markdown",
   "id": "32f0b971",
   "metadata": {},
   "source": [
    "# Stiching Images"
   ]
  },
  {
   "cell_type": "code",
   "execution_count": 3,
   "id": "d22686b7",
   "metadata": {},
   "outputs": [],
   "source": [
    "import shutil"
   ]
  },
  {
   "cell_type": "code",
   "execution_count": 2,
   "id": "e86768de",
   "metadata": {},
   "outputs": [
    {
     "name": "stdout",
     "output_type": "stream",
     "text": [
      "/home/mss/Documents/visual_recognition\r\n"
     ]
    }
   ],
   "source": [
    "!pwd"
   ]
  },
  {
   "cell_type": "code",
   "execution_count": 4,
   "id": "802b3c3e",
   "metadata": {},
   "outputs": [],
   "source": [
    "GTA_images_path = \"gta/01_images/images\"\n",
    "GTA_masks_path = \"gta/01_labels/labels\"\n",
    "animals_images_path = \"animals/rgb/\"\n",
    "animals_masks_path = \"animals/masks/\""
   ]
  },
  {
   "cell_type": "code",
   "execution_count": 9,
   "id": "580fb952",
   "metadata": {},
   "outputs": [
    {
     "name": "stdout",
     "output_type": "stream",
     "text": [
      "bear 20\n",
      "bird 41\n",
      "cow 43\n",
      "elephant 19\n",
      "giraffe 18\n",
      "horse 16\n",
      "sheep 24\n",
      "zebra 20\n"
     ]
    }
   ],
   "source": [
    "simple_folders = []\n",
    "for p in os.listdir(animals_images_path):\n",
    "    if \"simple\" in p:\n",
    "        simple_folders.append(p)\n",
    "for p in simple_folders:\n",
    "    if not os.path.exists(os.path.join(animals_masks_path,p)):\n",
    "        os.makedirs(os.path.join(animals_masks_path,p))\n",
    "    rgb_dir = os.path.join(animals_images_path,p)\n",
    "    file_names = os.listdir(rgb_dir)\n",
    "    #print(p,file_names)\n",
    "    animal_name = p.replace(\"_simple\",\"\")\n",
    "    print(animal_name,len(file_names))\n",
    "    for fn in file_names:\n",
    "        dst = os.path.join(animals_masks_path,animal_name+\"_simple\",fn)\n",
    "        src = os.path.join(animals_masks_path,animal_name,fn)\n",
    "        #print(src,dst)\n",
    "        shutil.copy(src, dst)"
   ]
  },
  {
   "cell_type": "code",
   "execution_count": 7,
   "id": "f8f3d928",
   "metadata": {},
   "outputs": [
    {
     "data": {
      "text/plain": [
       "['bear_simple',\n",
       " 'cow_simple',\n",
       " 'elephant_simple',\n",
       " 'giraffe_simple',\n",
       " 'horse_simple',\n",
       " 'sheep_simple',\n",
       " 'zebra_simple']"
      ]
     },
     "execution_count": 7,
     "metadata": {},
     "output_type": "execute_result"
    }
   ],
   "source": [
    "simple_folders"
   ]
  },
  {
   "cell_type": "markdown",
   "id": "8c28f3b2",
   "metadata": {},
   "source": [
    "# Overlapping Images"
   ]
  },
  {
   "cell_type": "code",
   "execution_count": 37,
   "id": "287dd97b",
   "metadata": {},
   "outputs": [],
   "source": [
    "from random import randint\n",
    "import random"
   ]
  },
  {
   "cell_type": "code",
   "execution_count": 38,
   "id": "d2df4e27",
   "metadata": {},
   "outputs": [],
   "source": [
    "def add_transparent_image(background_path, foreground_path, x_offset=200, y_offset=200):\n",
    "    background = cv2.imread(background_path)\n",
    "    foreground = cv2.imread(foreground_path,cv2.IMREAD_UNCHANGED)\n",
    "    bg_h, bg_w, bg_channels = background.shape\n",
    "    fg_h, fg_w, fg_channels = foreground.shape\n",
    "\n",
    "    assert bg_channels == 3, f'background image should have exactly 3 channels (RGB). found:{bg_channels}'\n",
    "    assert fg_channels == 4, f'foreground image should have exactly 4 channels (RGBA). found:{fg_channels}'\n",
    "\n",
    "    # center by default\n",
    "    if x_offset is None: x_offset = (bg_w - fg_w) // 2\n",
    "    if y_offset is None: y_offset = (bg_h - fg_h) // 2\n",
    "\n",
    "    w = min(fg_w, bg_w, fg_w + x_offset, bg_w - x_offset)\n",
    "    h = min(fg_h, bg_h, fg_h + y_offset, bg_h - y_offset)\n",
    "\n",
    "    if w < 1 or h < 1: return\n",
    "\n",
    "    # clip foreground and background images to the overlapping regions\n",
    "    bg_x = max(0, x_offset)\n",
    "    bg_y = max(0, y_offset)\n",
    "    fg_x = max(0, x_offset * -1)\n",
    "    fg_y = max(0, y_offset * -1)\n",
    "    foreground = foreground[fg_y:fg_y + h, fg_x:fg_x + w]\n",
    "    background_subsection = background[bg_y:bg_y + h, bg_x:bg_x + w]\n",
    "\n",
    "    # separate alpha and color channels from the foreground image\n",
    "    foreground_colors = foreground[:, :, :3]\n",
    "    alpha_channel = foreground[:, :, 3] / 255  # 0-255 => 0.0-1.0\n",
    "\n",
    "    # construct an alpha_mask that matches the image shape\n",
    "    alpha_mask = np.dstack((alpha_channel, alpha_channel, alpha_channel))\n",
    "\n",
    "    # combine the background with the overlay image weighted by alpha\n",
    "    composite = background_subsection * (1 - alpha_mask) + foreground_colors * alpha_mask\n",
    "    background[bg_y:bg_y + h, bg_x:bg_x + w] = composite\n",
    "    return background\n",
    "    # overwrite the section of the background image that has been updated"
   ]
  },
  {
   "cell_type": "code",
   "execution_count": 39,
   "id": "dc2b57fd",
   "metadata": {},
   "outputs": [],
   "source": [
    "animals  = [\"bear\", \"elephant\", \"giraffe\", \"horse\", \"cow\", \"bird\", \"zebra\", \"sheep\"]\n",
    "animal_count = {k:0 for k in animals}"
   ]
  },
  {
   "cell_type": "code",
   "execution_count": 78,
   "id": "1d4c67ff",
   "metadata": {},
   "outputs": [
    {
     "data": {
      "text/plain": [
       "3000"
      ]
     },
     "execution_count": 78,
     "metadata": {},
     "output_type": "execute_result"
    }
   ],
   "source": [
    "input_ = sorted(os.listdir(GTA_images_path),reverse=True)\n",
    "len(input_)"
   ]
  },
  {
   "cell_type": "code",
   "execution_count": 80,
   "id": "86236499",
   "metadata": {},
   "outputs": [],
   "source": [
    "def create_animal_gta(im):\n",
    "    save_dir = \"animal_gta_2/\"\n",
    "    animals  = [\"bear\", \"elephant\", \"giraffe\", \"horse\", \"cow\", \"bird\", \"zebra\", \"sheep\"]\n",
    "    animal_count = {k:0 for k in animals}\n",
    "    GTA_images_path = \"gta/01_images/images\"\n",
    "    GTA_masks_path = \"gta/01_labels/labels\"\n",
    "    animals_images_path = \"animals/rgb/\"\n",
    "    animals_masks_path = \"animals/masks/\"\n",
    "\n",
    "    bg_img_path = os.path.join(GTA_images_path,im)\n",
    "    bg_ms_path = os.path.join(GTA_masks_path,im)\n",
    "    a  = random.choice(animals)\n",
    "    animal_count[a]+=1\n",
    "    fg_img_dir = os.path.join(animals_images_path,a+\"_simple\")\n",
    "    a_img = random.choice(os.listdir(fg_img_dir))\n",
    "    fg_img_path = os.path.join(fg_img_dir,a_img)\n",
    "    fg_ms_path = os.path.join(animals_masks_path,a+\"_simple\",a_img)\n",
    "    x,y  = randint(100,1200), randint(150,800)\n",
    "    final_img = add_transparent_image(bg_img_path, fg_img_path, x, y)\n",
    "    final_mask = add_transparent_image(bg_ms_path, fg_ms_path, x, y)\n",
    "\n",
    "    cv2.imwrite(os.path.join(save_dir,\"images\",\"test\",im), final_img)\n",
    "    cv2.imwrite(os.path.join(save_dir,\"mask_temp\",\"test\",im), final_mask)\n",
    "    return animal_count"
   ]
  },
  {
   "cell_type": "code",
   "execution_count": 77,
   "id": "1920b7e6",
   "metadata": {},
   "outputs": [
    {
     "data": {
      "text/plain": [
       "{'bear': 0,\n",
       " 'elephant': 1,\n",
       " 'giraffe': 0,\n",
       " 'horse': 0,\n",
       " 'cow': 0,\n",
       " 'bird': 0,\n",
       " 'zebra': 0,\n",
       " 'sheep': 0}"
      ]
     },
     "execution_count": 77,
     "metadata": {},
     "output_type": "execute_result"
    }
   ],
   "source": [
    "create_animal_gta(input_[0])"
   ]
  },
  {
   "cell_type": "code",
   "execution_count": 81,
   "id": "39693255",
   "metadata": {},
   "outputs": [
    {
     "name": "stdout",
     "output_type": "stream",
     "text": [
      "Time taken: 21.997922658920288\n"
     ]
    }
   ],
   "source": [
    "import multiprocessing\n",
    "import time\n",
    "start = time.time()\n",
    "with multiprocessing.Pool(multiprocessing.cpu_count()) as p:\n",
    "    ans = p.map(create_animal_gta, input_[0:360])\n",
    "end = time.time()\n",
    "print(f\"Time taken: {end-start}\")"
   ]
  },
  {
   "cell_type": "markdown",
   "id": "77ec30fc",
   "metadata": {},
   "source": [
    "\"Time taken for training set: ~sec 240 \""
   ]
  },
  {
   "cell_type": "code",
   "execution_count": 161,
   "id": "f84e4c62",
   "metadata": {
    "scrolled": true
   },
   "outputs": [
    {
     "name": "stdout",
     "output_type": "stream",
     "text": [
      "0 images generated\n",
      "50 images generated\n",
      "100 images generated\n",
      "150 images generated\n",
      "200 images generated\n",
      "250 images generated\n",
      "300 images generated\n",
      "350 images generated\n",
      "400 images generated\n",
      "450 images generated\n",
      "500 images generated\n",
      "550 images generated\n",
      "600 images generated\n",
      "650 images generated\n",
      "700 images generated\n",
      "750 images generated\n",
      "800 images generated\n",
      "850 images generated\n",
      "900 images generated\n",
      "950 images generated\n",
      "1000 images generated\n",
      "1050 images generated\n",
      "1100 images generated\n",
      "1150 images generated\n",
      "1200 images generated\n",
      "1250 images generated\n",
      "1300 images generated\n",
      "1350 images generated\n",
      "1400 images generated\n",
      "1450 images generated\n",
      "1500 images generated\n",
      "1550 images generated\n",
      "1600 images generated\n",
      "1650 images generated\n",
      "1700 images generated\n",
      "1750 images generated\n",
      "1800 images generated\n",
      "1850 images generated\n",
      "1900 images generated\n",
      "1950 images generated\n",
      "2000 images generated\n",
      "2050 images generated\n",
      "2100 images generated\n",
      "2150 images generated\n",
      "2200 images generated\n",
      "2250 images generated\n",
      "2300 images generated\n",
      "2350 images generated\n",
      "2400 images generated\n",
      "2450 images generated\n"
     ]
    }
   ],
   "source": [
    "save_dir = \"animal_gta_2/\"\n",
    "\n",
    "for c,im in enumerate(os.listdir(GTA_images_path)):\n",
    "    if c%50==0:\n",
    "        print(f\"{c} images generated\")\n",
    "    if c>300:\n",
    "        continue\n",
    "    bg_img_path = os.path.join(GTA_images_path,im)\n",
    "    bg_ms_path = os.path.join(GTA_masks_path,im)\n",
    "    a  = random.choice(animals)\n",
    "    animal_count[a]+=1\n",
    "    fg_img_dir = os.path.join(animals_images_path,a+\"_simple\")\n",
    "    a_img = random.choice(os.listdir(fg_img_dir))\n",
    "    fg_img_path = os.path.join(fg_img_dir,a_img)\n",
    "    fg_ms_path = os.path.join(animals_masks_path,a+\"_simple\",a_img)\n",
    "    x,y  = randint(200,1000), randint(200,600)\n",
    "    final_img = add_transparent_image(bg_img_path, fg_img_path, x, y)\n",
    "    final_mask = add_transparent_image(bg_ms_path, fg_ms_path, x, y)\n",
    "    \n",
    "    cv2.imwrite(os.path.join(save_dir,\"images\",\"test\",im), final_img)\n",
    "    cv2.imwrite(os.path.join(save_dir,\"mask\",\"test\",im), final_mask)"
   ]
  },
  {
   "cell_type": "code",
   "execution_count": 159,
   "id": "5f0e4a14",
   "metadata": {},
   "outputs": [
    {
     "data": {
      "text/plain": [
       "{'bear': 489, 'elephant': 507, 'giraffe': 500, 'horse': 476, 'cow': 528}"
      ]
     },
     "execution_count": 159,
     "metadata": {},
     "output_type": "execute_result"
    }
   ],
   "source": [
    "animal_count"
   ]
  },
  {
   "cell_type": "markdown",
   "id": "4d5eb648",
   "metadata": {},
   "source": [
    "# Misc"
   ]
  },
  {
   "cell_type": "code",
   "execution_count": 133,
   "id": "15996186",
   "metadata": {},
   "outputs": [],
   "source": [
    "ignore_index=255\n",
    "valid_classes = []\n",
    "void_classes  =[]\n",
    "class_names = ['unlabeled', 'road', 'sidewalk', 'building', 'wall', 'fence', 'pole', 'traffic light', \\\n",
    "               'traffic sign', 'vegetation', 'terrain', 'sky', 'person', 'rider', 'car', 'truck', 'bus', \\\n",
    "               'caravan','trailer','train', 'motorcycle', 'bicycle','ignored']\n",
    "for i,k in enumerate(label_dict):\n",
    "    if k in class_names:\n",
    "        valid_classes.append(i)\n",
    "    else:\n",
    "        if i==34:\n",
    "            i=-1\n",
    "        void_classes.append(i)\n",
    "    void_classes.append(ignore_index)"
   ]
  },
  {
   "cell_type": "code",
   "execution_count": 134,
   "id": "c66ca056",
   "metadata": {},
   "outputs": [
    {
     "data": {
      "text/plain": [
       "23"
      ]
     },
     "execution_count": 134,
     "metadata": {},
     "output_type": "execute_result"
    }
   ],
   "source": [
    "len(class_names)"
   ]
  },
  {
   "cell_type": "code",
   "execution_count": 135,
   "id": "098778fa",
   "metadata": {},
   "outputs": [
    {
     "data": {
      "text/plain": [
       "{0: 0,\n",
       " 7: 1,\n",
       " 8: 2,\n",
       " 11: 3,\n",
       " 12: 4,\n",
       " 13: 5,\n",
       " 17: 6,\n",
       " 19: 7,\n",
       " 20: 8,\n",
       " 21: 9,\n",
       " 22: 10,\n",
       " 23: 11,\n",
       " 24: 12,\n",
       " 25: 13,\n",
       " 26: 14,\n",
       " 27: 15,\n",
       " 28: 16,\n",
       " 29: 17,\n",
       " 30: 18,\n",
       " 31: 19,\n",
       " 32: 20,\n",
       " 33: 21}"
      ]
     },
     "execution_count": 135,
     "metadata": {},
     "output_type": "execute_result"
    }
   ],
   "source": [
    "class_map = dict(zip(valid_classes, range(len(valid_classes))))\n",
    "n_classes=len(valid_classes)\n",
    "class_map"
   ]
  },
  {
   "cell_type": "code",
   "execution_count": 129,
   "id": "fd8504a9",
   "metadata": {},
   "outputs": [
    {
     "data": {
      "text/plain": [
       "{(0, 0, 0): 'unlabeled',\n",
       " (128, 64, 128): 'road',\n",
       " (244, 35, 232): 'sidewalk',\n",
       " (70, 70, 70): 'building',\n",
       " (102, 102, 156): 'wall',\n",
       " (190, 153, 153): 'fence',\n",
       " (153, 153, 153): 'pole',\n",
       " (250, 170, 30): 'traffic light',\n",
       " (220, 220, 0): 'traffic sign',\n",
       " (107, 142, 35): 'vegetation',\n",
       " (152, 251, 152): 'terrain',\n",
       " (70, 130, 180): 'sky',\n",
       " (220, 20, 60): 'person',\n",
       " (255, 0, 0): 'rider',\n",
       " (0, 0, 142): 'car',\n",
       " (0, 0, 70): 'truck',\n",
       " (0, 60, 100): 'bus',\n",
       " (0, 0, 90): 'caravan',\n",
       " (0, 0, 110): 'trailer',\n",
       " (0, 80, 100): 'train',\n",
       " (0, 0, 230): 'motorcycle',\n",
       " (119, 11, 32): 'bicycle'}"
      ]
     },
     "execution_count": 129,
     "metadata": {},
     "output_type": "execute_result"
    }
   ],
   "source": [
    "valid_color_map = {}\n",
    "for i,c in enumerate(class_names):\n",
    "    valid_color_map[label_dict[c]] = c\n",
    "valid_color_map"
   ]
  },
  {
   "cell_type": "code",
   "execution_count": null,
   "id": "d77cfa94",
   "metadata": {},
   "outputs": [],
   "source": [
    "mask_mapping = {\n",
    "    (255, 255, 0):   0,\n",
    "    (0, 255, 255):   1,\n",
    "    (255, 255, 255): 2,\n",
    "}\n",
    "\n",
    "def encode_mask(img,label_dict):\n",
    "    for k in mask_mapping:\n",
    "        label[(label == k).all(axis=2)] = mask_mapping[k]"
   ]
  }
 ],
 "metadata": {
  "kernelspec": {
   "display_name": "Python 3 (ipykernel)",
   "language": "python",
   "name": "python3"
  },
  "language_info": {
   "codemirror_mode": {
    "name": "ipython",
    "version": 3
   },
   "file_extension": ".py",
   "mimetype": "text/x-python",
   "name": "python",
   "nbconvert_exporter": "python",
   "pygments_lexer": "ipython3",
   "version": "3.10.8"
  }
 },
 "nbformat": 4,
 "nbformat_minor": 5
}
